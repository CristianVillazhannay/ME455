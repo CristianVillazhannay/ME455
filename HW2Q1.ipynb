{
 "cells": [
  {
   "attachments": {},
   "cell_type": "markdown",
   "id": "900fe689",
   "metadata": {},
   "source": [
    "### Q1 \n",
    "\n",
    "Apply iLQR to the differential drive vehicle. "
   ]
  },
  {
   "cell_type": "code",
   "execution_count": 97,
   "id": "f7bad4d9",
   "metadata": {},
   "outputs": [],
   "source": [
    "##import all the necessary packages\n",
    "import math \n",
    "from math import sin \n",
    "from math import cos\n",
    "import numpy as np\n",
    "import matplotlib.pyplot as plt \n",
    "from scipy.integrate import solve_ivp\n",
    "from scipy.integrate import simpson\n",
    "from numpy.linalg import inv\n"
   ]
  },
  {
   "cell_type": "code",
   "execution_count": 145,
   "id": "7fd001e0",
   "metadata": {},
   "outputs": [
    {
     "data": {
      "text/plain": [
       "[<matplotlib.lines.Line2D at 0x7fb1a0c11b10>]"
      ]
     },
     "execution_count": 145,
     "metadata": {},
     "output_type": "execute_result"
    },
    {
     "data": {
      "image/png": "[encoded data removed]",
      "text/plain": [
       "<Figure size 640x480 with 2 Axes>"
      ]
     },
     "metadata": {},
     "output_type": "display_data"
    }
   ],
   "source": [
    "##Initialize our variables and create a reference trajectory--------------------------------------------\n",
    "t = 2 * math.pi\n",
    "timestep =  100\n",
    "dt = t/timestep\n",
    "time = np.linspace(0,t,timestep)\n",
    "\n",
    "#Initialize our time step array with 5 state variables at each time step [x_1, x_2, theta, u_1, u_2 ...]\n",
    "traj_ref = np.zeros(5*time.size)\n",
    "traj_ref[0:5] = np.array([0,0,math.pi/2,1,-0.5])\n",
    "\n",
    "#Create our reference trajectory\n",
    "for i in range(0,495,5):\n",
    "    #Calculate the intial velocities.\n",
    "    traj_ref[i + 5] = traj_ref[i] + dt * traj_ref[i + 3] * cos(traj_ref[i + 2])\n",
    "    traj_ref[i + 6] = traj_ref[i + 1] + dt * traj_ref[i + 3] * sin(traj_ref[i + 2])\n",
    "    traj_ref[i + 7] = traj_ref[i + 2] + dt * traj_ref[i + 4]\n",
    "    traj_ref[i + 8] = traj_ref[i + 3]        \n",
    "    traj_ref[i + 9] = traj_ref[i + 4]    \n",
    "    \n",
    "#Set the controls to 0 at the end.\n",
    "traj_ref[-1], traj_ref[-2] = 0, 0\n",
    "\n",
    "#Reshape our trajectory to be in the shape we want it to be \n",
    "traj_ref = np.reshape(traj_ref,(time.size,5))\n",
    "\n",
    "##Create an optimal trajectory--------------------------------------------------------------------------\n",
    "#Initalize our optimal trajectory\n",
    "traj_optimal = np.array([0,0,math.pi/2])\n",
    "\n",
    "#Create the optimal trajectory\n",
    "for ii in time[1:]:\n",
    "    traj_optimal = np.vstack((traj_optimal, np.array([(4/2*math.pi)*ii,0,math.pi/2])))\n",
    "\n",
    "#Find the difference between the two trajectories. This essentially becomes our (x(t) - x_d(T))\n",
    "traj_init = traj_ref[:,0:3]\n",
    "traj_diff = traj_optimal - traj_init\n",
    "controls = traj_ref[:,(3,4)]\n",
    "\n",
    "#Create a dictionary with keys\n",
    "time_stamp = dict(zip(time,traj_init))\n",
    "\n",
    "##Plots-------------------------------------------------------------------------------------------------\n",
    "fig, axs = plt.subplots(1,2)\n",
    "#Plotting the reference trajectory\n",
    "axs[0].scatter(traj_ref[:,0], traj_ref[:,1])\n",
    "axs[0].axis(\"equal\")\n",
    "axs[0].set_title(\"Trajectory\")\n",
    "\n",
    "#Plotting the control signal \n",
    "axs[1].plot(time, traj_ref[:,3])\n",
    "axs[1].set_title(\"Control signal\")\n",
    "axs[1].plot(time, traj_ref[:,4], \"tab:orange\")"
   ]
  },
  {
   "attachments": {},
   "cell_type": "markdown",
   "id": "582172ac",
   "metadata": {},
   "source": [
    "## iLQR implementation\n",
    "When choosing the necessary parameters that we are going to be using in the algorithm, keep in mind that the parameters must fall within the following categories: \n",
    "$$\n",
    "\\alpha \\in (0,0.5) \\\\\n",
    "\\beta \\in (0,1)\n",
    "$$\n",
    "\n",
    "Our dynamics function is \n",
    "$$\n",
    "\\dot{s} = f(s,u)  \\: \\text{where} \n",
    "\\begin{bmatrix}\n",
    "\\dot{x} \\\\\n",
    "\\dot{y} \\\\\n",
    "\\dot{\\theta} \\\\\n",
    "\\end{bmatrix} = \n",
    "\\begin{bmatrix}\n",
    "u_1\\cos{\\theta}\\\\\n",
    "u_1\\sin{\\theta}\\\\\n",
    "u_2\\\\\n",
    "\\end{bmatrix} \n",
    "\\: \\text{where} \\:\n",
    "s_0 =\n",
    "\\begin{bmatrix}\n",
    "0 \\\\\n",
    "0 \\\\\n",
    "\\pi/2 \\\\\n",
    "\\end{bmatrix} \n",
    "\n",
    "$$ \n"
   ]
  },
  {
   "cell_type": "code",
   "execution_count": 146,
   "id": "f147facb",
   "metadata": {},
   "outputs": [
    {
     "ename": "IndexError",
     "evalue": "index 3 is out of bounds for axis 0 with size 3",
     "output_type": "error",
     "traceback": [
      "\u001b[0;31m---------------------------------------------------------------------------\u001b[0m",
      "\u001b[0;31mIndexError\u001b[0m                                Traceback (most recent call last)",
      "\u001b[0;32m/var/folders/7w/_9tcnxcs6ld28_h3sl__ch380000gn/T/ipykernel_68111/1740306976.py\u001b[0m in \u001b[0;36m<module>\u001b[0;34m\u001b[0m\n\u001b[1;32m     85\u001b[0m     \u001b[0;32mreturn\u001b[0m \u001b[0mcost\u001b[0m\u001b[0;34m\u001b[0m\u001b[0;34m\u001b[0m\u001b[0m\n\u001b[1;32m     86\u001b[0m \u001b[0;34m\u001b[0m\u001b[0m\n\u001b[0;32m---> 87\u001b[0;31m \u001b[0marr\u001b[0m \u001b[0;34m=\u001b[0m \u001b[0meuler\u001b[0m\u001b[0;34m(\u001b[0m\u001b[0mP_1\u001b[0m\u001b[0;34m,\u001b[0m\u001b[0mA\u001b[0m\u001b[0;34m,\u001b[0m\u001b[0mB\u001b[0m\u001b[0;34m,\u001b[0m\u001b[0mQ\u001b[0m\u001b[0;34m,\u001b[0m\u001b[0mR\u001b[0m\u001b[0;34m,\u001b[0m\u001b[0mtime\u001b[0m\u001b[0;34m,\u001b[0m\u001b[0mdt\u001b[0m\u001b[0;34m)\u001b[0m\u001b[0;34m\u001b[0m\u001b[0;34m\u001b[0m\u001b[0m\n\u001b[0m\u001b[1;32m     88\u001b[0m \u001b[0;31m##Iterative Linear Quadratic Control -----------------------------------------------------------\u001b[0m\u001b[0;34m\u001b[0m\u001b[0;34m\u001b[0m\u001b[0m\n\u001b[1;32m     89\u001b[0m \u001b[0mxi\u001b[0m \u001b[0;34m=\u001b[0m \u001b[0;36m1\u001b[0m  \u001b[0;31m#Get into the while loop\u001b[0m\u001b[0;34m\u001b[0m\u001b[0;34m\u001b[0m\u001b[0m\n",
      "\u001b[0;32m/var/folders/7w/_9tcnxcs6ld28_h3sl__ch380000gn/T/ipykernel_68111/1740306976.py\u001b[0m in \u001b[0;36meuler\u001b[0;34m(P, A, B, Q, R, time, dt)\u001b[0m\n\u001b[1;32m     62\u001b[0m     \u001b[0;32mfor\u001b[0m \u001b[0mi\u001b[0m \u001b[0;32min\u001b[0m \u001b[0mreversed\u001b[0m\u001b[0;34m(\u001b[0m\u001b[0mrange\u001b[0m\u001b[0;34m(\u001b[0m\u001b[0;36m1\u001b[0m\u001b[0;34m,\u001b[0m\u001b[0mlen\u001b[0m\u001b[0;34m(\u001b[0m\u001b[0mtime\u001b[0m\u001b[0;34m)\u001b[0m\u001b[0;34m)\u001b[0m\u001b[0;34m)\u001b[0m\u001b[0;34m:\u001b[0m\u001b[0;34m\u001b[0m\u001b[0;34m\u001b[0m\u001b[0m\n\u001b[1;32m     63\u001b[0m         \u001b[0;31m#Solve the current slope. Note that this is -1 * \\dot{P}(t)\u001b[0m\u001b[0;34m\u001b[0m\u001b[0;34m\u001b[0m\u001b[0m\n\u001b[0;32m---> 64\u001b[0;31m         \u001b[0mPDot\u001b[0m \u001b[0;34m=\u001b[0m \u001b[0mP\u001b[0m \u001b[0;34m@\u001b[0m \u001b[0mA\u001b[0m\u001b[0;34m(\u001b[0m\u001b[0mtime\u001b[0m\u001b[0;34m[\u001b[0m\u001b[0mi\u001b[0m\u001b[0;34m]\u001b[0m\u001b[0;34m)\u001b[0m \u001b[0;34m+\u001b[0m \u001b[0mA\u001b[0m\u001b[0;34m(\u001b[0m\u001b[0mtime\u001b[0m\u001b[0;34m[\u001b[0m\u001b[0mi\u001b[0m\u001b[0;34m]\u001b[0m\u001b[0;34m)\u001b[0m\u001b[0;34m.\u001b[0m\u001b[0mT\u001b[0m \u001b[0;34m@\u001b[0m \u001b[0mP\u001b[0m \u001b[0;34m-\u001b[0m \u001b[0mP\u001b[0m \u001b[0;34m@\u001b[0m \u001b[0mB\u001b[0m\u001b[0;34m(\u001b[0m\u001b[0mtime\u001b[0m\u001b[0;34m[\u001b[0m\u001b[0mi\u001b[0m\u001b[0;34m]\u001b[0m\u001b[0;34m)\u001b[0m \u001b[0;34m@\u001b[0m \u001b[0minv\u001b[0m\u001b[0;34m(\u001b[0m\u001b[0mR\u001b[0m\u001b[0;34m)\u001b[0m \u001b[0;34m@\u001b[0m \u001b[0mB\u001b[0m\u001b[0;34m(\u001b[0m\u001b[0mtime\u001b[0m\u001b[0;34m[\u001b[0m\u001b[0mi\u001b[0m\u001b[0;34m]\u001b[0m\u001b[0;34m)\u001b[0m\u001b[0;34m.\u001b[0m\u001b[0mT\u001b[0m \u001b[0;34m@\u001b[0m \u001b[0mP\u001b[0m \u001b[0;34m+\u001b[0m \u001b[0mQ\u001b[0m\u001b[0;34m\u001b[0m\u001b[0;34m\u001b[0m\u001b[0m\n\u001b[0m\u001b[1;32m     65\u001b[0m \u001b[0;34m\u001b[0m\u001b[0m\n\u001b[1;32m     66\u001b[0m         \u001b[0;31m#Solve for the next iteration and add it to the answers array.\u001b[0m\u001b[0;34m\u001b[0m\u001b[0;34m\u001b[0m\u001b[0m\n",
      "\u001b[0;32m/var/folders/7w/_9tcnxcs6ld28_h3sl__ch380000gn/T/ipykernel_68111/1740306976.py\u001b[0m in \u001b[0;36mA\u001b[0;34m(t)\u001b[0m\n\u001b[1;32m     17\u001b[0m     \u001b[0my\u001b[0m \u001b[0;34m=\u001b[0m \u001b[0mcurr\u001b[0m\u001b[0;34m[\u001b[0m\u001b[0;36m1\u001b[0m\u001b[0;34m]\u001b[0m\u001b[0;34m\u001b[0m\u001b[0;34m\u001b[0m\u001b[0m\n\u001b[1;32m     18\u001b[0m     \u001b[0mtheta\u001b[0m \u001b[0;34m=\u001b[0m \u001b[0mcurr\u001b[0m\u001b[0;34m[\u001b[0m\u001b[0;36m2\u001b[0m\u001b[0;34m]\u001b[0m\u001b[0;34m\u001b[0m\u001b[0;34m\u001b[0m\u001b[0m\n\u001b[0;32m---> 19\u001b[0;31m     \u001b[0mu1\u001b[0m \u001b[0;34m=\u001b[0m \u001b[0mcurr\u001b[0m\u001b[0;34m[\u001b[0m\u001b[0;36m3\u001b[0m\u001b[0;34m]\u001b[0m\u001b[0;34m\u001b[0m\u001b[0;34m\u001b[0m\u001b[0m\n\u001b[0m\u001b[1;32m     20\u001b[0m     return np.array([[0, 0, -1*u1*sin(theta)],\n\u001b[1;32m     21\u001b[0m                      \u001b[0;34m[\u001b[0m\u001b[0;36m0\u001b[0m\u001b[0;34m,\u001b[0m \u001b[0;36m0\u001b[0m\u001b[0;34m,\u001b[0m \u001b[0mu1\u001b[0m\u001b[0;34m*\u001b[0m\u001b[0mcos\u001b[0m\u001b[0;34m(\u001b[0m\u001b[0mtheta\u001b[0m\u001b[0;34m)\u001b[0m\u001b[0;34m]\u001b[0m\u001b[0;34m,\u001b[0m\u001b[0;34m\u001b[0m\u001b[0;34m\u001b[0m\u001b[0m\n",
      "\u001b[0;31mIndexError\u001b[0m: index 3 is out of bounds for axis 0 with size 3"
     ]
    }
   ],
   "source": [
    "##Setup our weight matrices --------------------------------------------------------------------\n",
    "Q = np.diag(np.array([10, 10, 1]))\n",
    "\n",
    "R = np.diag(np.array([10, 10])) #The way these function they give more weight to the values that have higher values.\n",
    "\n",
    "P_1 = np.diag(np.array([10,10,1])) #For functions with no remainder, then we can make P1 = Q \n",
    "\n",
    "alpha = 0.4         #Recommended choices are 0.4 and 10E-4\n",
    "beta = 0.7          #Recommended choice is 0.7 but ultimately up to designer discretion\n",
    "epsilon = 10**-3    #This is the threshold value that we can assign\n",
    "\n",
    "##Initialize A(D_1f(x,u)) and B (D_2f(x,u)) to create the f(s,u)\n",
    "def A(t): \n",
    "    ##A is function that takes in a timestamp and subsequently accesses the time_stamp dictionary to get the values of theta, x, y, u1, u2 at that time. \n",
    "    curr = time_stamp.get(t)    \n",
    "    x = curr[0]\n",
    "    y = curr[1]\n",
    "    theta = curr[2]\n",
    "    u1 = curr[3]\n",
    "    return np.array([[0, 0, -1*u1*sin(theta)],\n",
    "                     [0, 0, u1*cos(theta)],\n",
    "                     [0, 0, 0]\n",
    "                     ])\n",
    "\n",
    "def B(t):\n",
    "    curr = time_stamp.get(t)\n",
    "    x = curr[0]\n",
    "    y = curr[1]\n",
    "    theta = curr[2]\n",
    "    return np.array([[cos(theta), 0],\n",
    "                     [sin(theta), 0],\n",
    "                     [0, 1]\n",
    "                     ])\n",
    "\n",
    "def a(s,Q):\n",
    "    return np.array([[Q*s[0]],\n",
    "                     [Q*s[1]],\n",
    "                     [Q*s[2]]])\n",
    "\n",
    "def b(u,R):\n",
    "    return np.array([[R*u[0]],\n",
    "                     [R*u[1]],])\n",
    "\n",
    "#If we want to use solve_ivp we need to be able to calculate A(t) and B(t) as a function of time. \n",
    "# def riccati(t,y):\n",
    "#     print(t)\n",
    "#     y = np.reshape(y, (3,3))\n",
    "#     ans = -1 * y @ A(t) - A(t).T @ y - y @ B(t) @ inv(R) @ B(t).T @ y - Q\n",
    "#     return np.reshape(ans,(9,))\n",
    "\n",
    "# rk45 = solve_ivp(riccati,[time[-1],time[0]],P_1.flatten(), t_eval= np.flip(time), vectorized=True) \n",
    "\n",
    "#This is used to solve the backward propogation of P using Euler's Integration Method.\n",
    "def euler(P,A,B,Q,R,time,dt):\n",
    "    #Create an array to hold all the possible values of P(t)\n",
    "    ans = np.ndarray((9,time.size))\n",
    "\n",
    "    #Add the terminal condition to the array\n",
    "    ans[:,-1] = P.flatten()\n",
    "\n",
    "    #Solve for the P(t) term using the backwards propogation Euler Method.\n",
    "    for i in reversed(range(1,len(time))):  \n",
    "        #Solve the current slope. Note that this is -1 * \\dot{P}(t)\n",
    "        PDot = P @ A(time[i]) + A(time[i]).T @ P - P @ B(time[i]) @ inv(R) @ B(time[i]).T @ P + Q\n",
    "\n",
    "        #Solve for the next iteration and add it to the answers array. \n",
    "        P = P + PDot * dt\n",
    "        ans[:,i-1] = P.flatten()\n",
    "\n",
    "    return ans\n",
    "\n",
    "def objective(x_traj,x_ref,u,Q,R,P_1,time):\n",
    "    #Create the cost integral and calculate the interior of the integral at all time steps. \n",
    "    J = np.ndarray((time.size))\n",
    "\n",
    "    #Calculate the interior of the integral at each time step. \n",
    "    for ii in range(len(time)):\n",
    "        #The formula is modified because the expectation is that x is originally a column vector.\n",
    "        #The input control vector is also input as a [1,2] vector as opposed to a [2,1]\n",
    "        J[ii] = 0.5 * (x_traj[ii,:]- x_ref[ii,:]) @ Q @ (x_traj[ii,:] - x_ref[ii,:]).T + 0.5 * u @ R @ u.T  \n",
    "    \n",
    "    #Find the sum total using the Simpson function. \n",
    "    cost = simpson(J,time) + 0.5 * (x_traj[-1,:] - x_ref[-1,:]) @ P_1 @ (x_traj[-1,:] - x_ref[-1,:]).T\n",
    "\n",
    "    return cost\n",
    "\n",
    "arr = euler(P_1,A,B,Q,R,time,dt)\n",
    "##Iterative Linear Quadratic Control ----------------------------------------------------------- \n",
    "xi = 1  #Get into the while loop\n",
    "i = 0   #iterative counter\n",
    "P = P_1 #Start up the initial condition\n",
    "cost = objective(traj_init,traj_optimal,controls,Q,R,P_1,time)\n",
    "# while xi > epsilon:\n",
    "#     #Start solving the Riccati Equations from the terminal condition P(T) = P_1\n",
    "#     P_arr = euler(P_1,A,B,Q,R,time,dt)\n",
    "#     PDot = P @ A(time[-1*i]) + A(time[-1*i]).T @ P - P @ B(time[-1*i]) @ inv(R) @ B(time[-1*i]).T @ P + Q\n",
    "#     P = P + PDot * dt\n",
    "\n"
   ]
  },
  {
   "attachments": {},
   "cell_type": "markdown",
   "id": "477b6bc3",
   "metadata": {},
   "source": [
    "$$\n",
    "\\text{The objective function of the equation we are solving is:}\\\\ \\\\\n",
    "\\\\\n",
    "J = \\int_0^T0.5(x-x_{d})^T Q(x-x_d) + 0.5u^TRudt + 0.5(x(T) - x_d(T))^TP_1(x(T) - x_d(T))\n",
    "\\\\\n",
    "\\text{Note that the terminal cost of this function} \\: m_x(T) = p(T) = p_1 \n",
    "\\\\\n",
    "\\newline\n",
    "$$"
   ]
  },
  {
   "cell_type": "code",
   "execution_count": 142,
   "id": "bac72c78",
   "metadata": {},
   "outputs": [
    {
     "data": {
      "text/plain": [
       "numpy.ndarray"
      ]
     },
     "execution_count": 142,
     "metadata": {},
     "output_type": "execute_result"
    }
   ],
   "source": []
  },
  {
   "cell_type": "code",
   "execution_count": null,
   "id": "86f48c7b",
   "metadata": {},
   "outputs": [],
   "source": []
  }
 ],
 "metadata": {
  "kernelspec": {
   "display_name": "IRS_Virtual",
   "language": "python",
   "name": "irs_virtual"
  },
  "language_info": {
   "codemirror_mode": {
    "name": "ipython",
    "version": 3
   },
   "file_extension": ".py",
   "mimetype": "text/x-python",
   "name": "python",
   "nbconvert_exporter": "python",
   "pygments_lexer": "ipython3",
   "version": "3.10.4"
  }
 },
 "nbformat": 4,
 "nbformat_minor": 5
}
