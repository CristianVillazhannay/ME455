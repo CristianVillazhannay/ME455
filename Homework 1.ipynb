{
 "cells": [
  {
   "cell_type": "code",
   "execution_count": 195,
   "id": "0ee0c133",
   "metadata": {},
   "outputs": [],
   "source": [
    "##Import everything we need to get the code running. \n",
    "from scipy.optimize import minimize\n",
    "import numpy as np\n",
    "import matplotlib.pyplot as plt\n",
    "import math"
   ]
  },
  {
   "cell_type": "code",
   "execution_count": 229,
   "id": "bb5e38db",
   "metadata": {},
   "outputs": [],
   "source": [
    "##Begin defining our variables. \n",
    "time = 2 * math.pi \n",
    "\n",
    "#intialization values\n",
    "x_0 = 0 #x_d = 4\n",
    "y_0 = 0 #y_d = 0\n",
    "t_0 = math.pi/2 #t_d = math.pi/2\n",
    "\n",
    "#velocity vector: linear velocity and angular velocity\n",
    "#creation of the control array\n",
    "u_1, u_2 = 1, -1/2\n",
    "control = np.array([u_1,u_2])\n",
    "\n",
    "#positional variables \n",
    "x = x_0\n",
    "y = y_0\n",
    "t = t_0\n",
    "\n",
    "#velocity variables\n",
    "x_dot = math.cos(t) * control[0]\n",
    "y_dot = math.sin(t) * control[0]\n",
    "t_dot = control[1]\n",
    "\n",
    "#creation of the state variable array\n",
    "state = np.array([x, \n",
    "                  y, \n",
    "                  t, \n",
    "                  math.cos(t) * control[0],\n",
    "                  math.sin(t) * control[0],\n",
    "                  control[1]])\n"
   ]
  },
  {
   "cell_type": "code",
   "execution_count": 230,
   "id": "e0109589",
   "metadata": {},
   "outputs": [],
   "source": [
    "##Creation of the reference trajectory\n",
    "#Interval of time over which we will be calculating.\n",
    "dt = time/100\n",
    "ctime = 0 \n",
    "current_state = state\n",
    "state_stack = state\n",
    "control_stack = control\n",
    "\n",
    "#Here we begin the creation of the array that will represent our references states.\n",
    "while ctime <= time:\n",
    "    ctime += dt  #update the time we are operating on.\n",
    "    current_state = np.array([current_state[0] + current_state[3]*dt, \n",
    "                              current_state[1] + current_state[4]*dt, \n",
    "                              current_state[2] + current_state[5]*dt, \n",
    "                              math.cos(current_state[2] + current_state[5]*dt) * control[0],\n",
    "                              math.sin(current_state[2] + current_state[5]*dt) * control[0],\n",
    "                              control[1]])\n",
    "\n",
    "    state_stack = np.vstack((state_stack,current_state))\n",
    "    control_stack = np.vstack((control_stack, control))\n",
    "else:\n",
    "    control[0], control[1] = 0, 0\n",
    "    current_state = np.array([current_state[0] + current_state[3]*dt,\n",
    "                          current_state[1] + current_state[4]*dt, \n",
    "                          current_state[2] + current_state[5]*dt, \n",
    "                          math.cos(current_state[5]*dt) * control[0],\n",
    "                          math.sin(current_state[5]*dt) * control[0],\n",
    "                          control[1]])\n",
    "    state_stack = np.vstack((state_stack, current_state))\n",
    "    control_stack = np.vstack((control_stack, control))"
   ]
  },
  {
   "cell_type": "code",
   "execution_count": 231,
   "id": "1e0db3db",
   "metadata": {},
   "outputs": [
    {
     "data": {
      "text/plain": [
       "[<matplotlib.lines.Line2D at 0x7f792ff2cd60>]"
      ]
     },
     "execution_count": 231,
     "metadata": {},
     "output_type": "execute_result"
    },
    {
     "data": {
      "image/png": "[encoded data removed]",
      "text/plain": [
       "<Figure size 640x480 with 2 Axes>"
      ]
     },
     "metadata": {},
     "output_type": "display_data"
    }
   ],
   "source": [
    "fig, axs = plt.subplots(1,2)\n",
    "#Plotting the reference trajectory\n",
    "axs[0].scatter(state_stack[:,0],state_stack[:,1])\n",
    "axs[0].axis(\"equal\")\n",
    "axs[0].set_title(\"Trajectory\")\n",
    "\n",
    "#Plotting the control signal \n",
    "axs[1].plot(control_stack[:,0])\n",
    "axs[1].set_title(\"Control signal\")\n",
    "axs[1].plot(control_stack[:,1], \"tab:orange\")"
   ]
  },
  {
   "cell_type": "code",
   "execution_count": null,
   "id": "57220957",
   "metadata": {},
   "outputs": [],
   "source": [
    "# define the objective function \n",
    "x = np.array([1,2])\n",
    "x_ref = np.array([1.1,2])\n",
    "y = np.array([1,2])\n",
    "def objective(state,control,reference):\n",
    "    #Make sure both vectors are numpy arrays.\n",
    "    if (isinstance(state, np.ndarray) \n",
    "        and isinstance(control, np.ndarray) \n",
    "        and isinstance(reference, np.ndarray) != True):\n",
    "        return print(\"Wrong Input Class\")\n",
    "    \n",
    "    #Make sure the sizing is the same for all the vectors. \n",
    "    if ((state.shape[0] != control.shape[0]) or \n",
    "        (state.shape[0] != reference.shape[0])):\n",
    "        return print(\"Unequal Vector Sizes\")\n",
    "    \n",
    "    for \n",
    "    ##Summation of the error \n",
    "    return \n",
    "    "
   ]
  },
  {
   "cell_type": "code",
   "execution_count": 250,
   "id": "2ea5cb9d",
   "metadata": {},
   "outputs": [],
   "source": [
    "objective(x,x_ref,y)"
   ]
  },
  {
   "cell_type": "code",
   "execution_count": 252,
   "id": "37993cbb",
   "metadata": {},
   "outputs": [
    {
     "data": {
      "text/plain": [
       "103"
      ]
     },
     "execution_count": 252,
     "metadata": {},
     "output_type": "execute_result"
    }
   ],
   "source": [
    "state_stack.shape\n",
    "control_stack.shape[0]\n",
    "len(state_stack)"
   ]
  },
  {
   "cell_type": "code",
   "execution_count": 73,
   "id": "493ecbcb",
   "metadata": {},
   "outputs": [],
   "source": [
    "state = np.array([x, \n",
    "                  y, \n",
    "                  t, \n",
    "                  math.cos(t) * control[0],\n",
    "                  math.sin(t) * control[0],\n",
    "                  control[1]])"
   ]
  },
  {
   "cell_type": "code",
   "execution_count": 74,
   "id": "90220cdb",
   "metadata": {},
   "outputs": [
    {
     "data": {
      "text/plain": [
       "array([ 0.        ,  0.        ,  1.57079633,  0.        ,  0.        ,\n",
       "       -0.5       ])"
      ]
     },
     "execution_count": 74,
     "metadata": {},
     "output_type": "execute_result"
    }
   ],
   "source": [
    "state"
   ]
  },
  {
   "cell_type": "code",
   "execution_count": null,
   "id": "f86e651f",
   "metadata": {},
   "outputs": [],
   "source": []
  }
 ],
 "metadata": {
  "kernelspec": {
   "display_name": "Python 3 (ipykernel)",
   "language": "python",
   "name": "python3"
  },
  "language_info": {
   "codemirror_mode": {
    "name": "ipython",
    "version": 3
   },
   "file_extension": ".py",
   "mimetype": "text/x-python",
   "name": "python",
   "nbconvert_exporter": "python",
   "pygments_lexer": "ipython3",
   "version": "3.9.13"
  }
 },
 "nbformat": 4,
 "nbformat_minor": 5
}
