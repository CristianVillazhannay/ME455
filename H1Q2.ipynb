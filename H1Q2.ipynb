{
 "cells": [
  {
   "cell_type": "markdown",
   "id": "1df5c637",
   "metadata": {},
   "source": [
    "# Q2"
   ]
  },
  {
   "cell_type": "code",
   "execution_count": 165,
   "id": "b8950bbe",
   "metadata": {},
   "outputs": [],
   "source": [
    "from scipy.integrate import solve_bvp\n",
    "import numpy as np\n",
    "import matplotlib.pyplot as plt\n",
    "import math"
   ]
  },
  {
   "cell_type": "markdown",
   "id": "61d8ba75",
   "metadata": {},
   "source": [
    "### Boundary Value Problem"
   ]
  },
  {
   "cell_type": "code",
   "execution_count": 167,
   "id": "7978a83a",
   "metadata": {
    "scrolled": true
   },
   "outputs": [
    {
     "ename": "ValueError",
     "evalue": "matmul: Input operand 1 has a mismatch in its core dimension 0, with gufunc signature (n?,k),(k,m?)->(n?,m?) (size 1 is different from 2)",
     "output_type": "error",
     "traceback": [
      "\u001b[0;31m---------------------------------------------------------------------------\u001b[0m",
      "\u001b[0;31mValueError\u001b[0m                                Traceback (most recent call last)",
      "\u001b[0;32m/var/folders/7w/_9tcnxcs6ld28_h3sl__ch380000gn/T/ipykernel_81589/4195613277.py\u001b[0m in \u001b[0;36m<module>\u001b[0;34m\u001b[0m\n\u001b[1;32m     41\u001b[0m \u001b[0;34m\u001b[0m\u001b[0m\n\u001b[1;32m     42\u001b[0m \u001b[0;31m#Call our function\u001b[0m\u001b[0;34m\u001b[0m\u001b[0;34m\u001b[0m\u001b[0m\n\u001b[0;32m---> 43\u001b[0;31m \u001b[0msol\u001b[0m \u001b[0;34m=\u001b[0m \u001b[0msolve_bvp\u001b[0m\u001b[0;34m(\u001b[0m\u001b[0mbvp\u001b[0m\u001b[0;34m,\u001b[0m \u001b[0mbc\u001b[0m\u001b[0;34m,\u001b[0m \u001b[0mt\u001b[0m\u001b[0;34m,\u001b[0m \u001b[0my\u001b[0m\u001b[0;34m)\u001b[0m\u001b[0;34m\u001b[0m\u001b[0;34m\u001b[0m\u001b[0m\n\u001b[0m",
      "\u001b[0;32m~/opt/anaconda3/lib/python3.9/site-packages/scipy/integrate/_bvp.py\u001b[0m in \u001b[0;36msolve_bvp\u001b[0;34m(fun, bc, x, y, p, S, fun_jac, bc_jac, tol, max_nodes, verbose, bc_tol)\u001b[0m\n\u001b[1;32m   1060\u001b[0m         fun, bc, fun_jac, bc_jac, k, a, S, D, dtype)\n\u001b[1;32m   1061\u001b[0m \u001b[0;34m\u001b[0m\u001b[0m\n\u001b[0;32m-> 1062\u001b[0;31m     \u001b[0mf\u001b[0m \u001b[0;34m=\u001b[0m \u001b[0mfun_wrapped\u001b[0m\u001b[0;34m(\u001b[0m\u001b[0mx\u001b[0m\u001b[0;34m,\u001b[0m \u001b[0my\u001b[0m\u001b[0;34m,\u001b[0m \u001b[0mp\u001b[0m\u001b[0;34m)\u001b[0m\u001b[0;34m\u001b[0m\u001b[0;34m\u001b[0m\u001b[0m\n\u001b[0m\u001b[1;32m   1063\u001b[0m     \u001b[0;32mif\u001b[0m \u001b[0mf\u001b[0m\u001b[0;34m.\u001b[0m\u001b[0mshape\u001b[0m \u001b[0;34m!=\u001b[0m \u001b[0my\u001b[0m\u001b[0;34m.\u001b[0m\u001b[0mshape\u001b[0m\u001b[0;34m:\u001b[0m\u001b[0;34m\u001b[0m\u001b[0;34m\u001b[0m\u001b[0m\n\u001b[1;32m   1064\u001b[0m         raise ValueError(\"`fun` return is expected to have shape {}, \"\n",
      "\u001b[0;32m~/opt/anaconda3/lib/python3.9/site-packages/scipy/integrate/_bvp.py\u001b[0m in \u001b[0;36mfun_p\u001b[0;34m(x, y, _)\u001b[0m\n\u001b[1;32m    645\u001b[0m     \u001b[0;32mif\u001b[0m \u001b[0mk\u001b[0m \u001b[0;34m==\u001b[0m \u001b[0;36m0\u001b[0m\u001b[0;34m:\u001b[0m\u001b[0;34m\u001b[0m\u001b[0;34m\u001b[0m\u001b[0m\n\u001b[1;32m    646\u001b[0m         \u001b[0;32mdef\u001b[0m \u001b[0mfun_p\u001b[0m\u001b[0;34m(\u001b[0m\u001b[0mx\u001b[0m\u001b[0;34m,\u001b[0m \u001b[0my\u001b[0m\u001b[0;34m,\u001b[0m \u001b[0m_\u001b[0m\u001b[0;34m)\u001b[0m\u001b[0;34m:\u001b[0m\u001b[0;34m\u001b[0m\u001b[0;34m\u001b[0m\u001b[0m\n\u001b[0;32m--> 647\u001b[0;31m             \u001b[0;32mreturn\u001b[0m \u001b[0mnp\u001b[0m\u001b[0;34m.\u001b[0m\u001b[0masarray\u001b[0m\u001b[0;34m(\u001b[0m\u001b[0mfun\u001b[0m\u001b[0;34m(\u001b[0m\u001b[0mx\u001b[0m\u001b[0;34m,\u001b[0m \u001b[0my\u001b[0m\u001b[0;34m)\u001b[0m\u001b[0;34m,\u001b[0m \u001b[0mdtype\u001b[0m\u001b[0;34m)\u001b[0m\u001b[0;34m\u001b[0m\u001b[0;34m\u001b[0m\u001b[0m\n\u001b[0m\u001b[1;32m    648\u001b[0m \u001b[0;34m\u001b[0m\u001b[0m\n\u001b[1;32m    649\u001b[0m         \u001b[0;32mdef\u001b[0m \u001b[0mbc_wrapped\u001b[0m\u001b[0;34m(\u001b[0m\u001b[0mya\u001b[0m\u001b[0;34m,\u001b[0m \u001b[0myb\u001b[0m\u001b[0;34m,\u001b[0m \u001b[0m_\u001b[0m\u001b[0;34m)\u001b[0m\u001b[0;34m:\u001b[0m\u001b[0;34m\u001b[0m\u001b[0;34m\u001b[0m\u001b[0m\n",
      "\u001b[0;32m/var/folders/7w/_9tcnxcs6ld28_h3sl__ch380000gn/T/ipykernel_81589/4195613277.py\u001b[0m in \u001b[0;36mbvp\u001b[0;34m(x, y)\u001b[0m\n\u001b[1;32m     24\u001b[0m \u001b[0;31m##None created a Row vector when placed before, and a Column vector when placed after. Replaces the \"lost\" axis.\u001b[0m\u001b[0;34m\u001b[0m\u001b[0;34m\u001b[0m\u001b[0m\n\u001b[1;32m     25\u001b[0m \u001b[0;32mdef\u001b[0m \u001b[0mbvp\u001b[0m\u001b[0;34m(\u001b[0m\u001b[0mx\u001b[0m\u001b[0;34m,\u001b[0m\u001b[0my\u001b[0m\u001b[0;34m)\u001b[0m\u001b[0;34m:\u001b[0m\u001b[0;34m\u001b[0m\u001b[0;34m\u001b[0m\u001b[0m\n\u001b[0;32m---> 26\u001b[0;31m     return np.vstack((A[None,0] @ np.array([[y[0]],[y[1]]]) - ((B @ (1/R)).reshape(2,1) @ B.T)[None,0] @ np.array([[y[2]],[y[3]]]), ##x_dot1 \n\u001b[0m\u001b[1;32m     27\u001b[0m                       \u001b[0mA\u001b[0m\u001b[0;34m[\u001b[0m\u001b[0;32mNone\u001b[0m\u001b[0;34m,\u001b[0m\u001b[0;36m1\u001b[0m\u001b[0;34m]\u001b[0m \u001b[0;34m@\u001b[0m \u001b[0mnp\u001b[0m\u001b[0;34m.\u001b[0m\u001b[0marray\u001b[0m\u001b[0;34m(\u001b[0m\u001b[0;34m[\u001b[0m\u001b[0;34m[\u001b[0m\u001b[0my\u001b[0m\u001b[0;34m[\u001b[0m\u001b[0;36m0\u001b[0m\u001b[0;34m]\u001b[0m\u001b[0;34m]\u001b[0m\u001b[0;34m,\u001b[0m\u001b[0;34m[\u001b[0m\u001b[0my\u001b[0m\u001b[0;34m[\u001b[0m\u001b[0;36m1\u001b[0m\u001b[0;34m]\u001b[0m\u001b[0;34m]\u001b[0m\u001b[0;34m]\u001b[0m\u001b[0;34m)\u001b[0m \u001b[0;34m-\u001b[0m \u001b[0;34m(\u001b[0m\u001b[0;34m(\u001b[0m\u001b[0mB\u001b[0m \u001b[0;34m@\u001b[0m \u001b[0;34m(\u001b[0m\u001b[0;36m1\u001b[0m\u001b[0;34m/\u001b[0m\u001b[0mR\u001b[0m\u001b[0;34m)\u001b[0m\u001b[0;34m)\u001b[0m\u001b[0;34m.\u001b[0m\u001b[0mreshape\u001b[0m\u001b[0;34m(\u001b[0m\u001b[0;36m2\u001b[0m\u001b[0;34m,\u001b[0m\u001b[0;36m1\u001b[0m\u001b[0;34m)\u001b[0m \u001b[0;34m@\u001b[0m \u001b[0mB\u001b[0m\u001b[0;34m.\u001b[0m\u001b[0mT\u001b[0m\u001b[0;34m)\u001b[0m\u001b[0;34m[\u001b[0m\u001b[0;32mNone\u001b[0m\u001b[0;34m,\u001b[0m\u001b[0;36m1\u001b[0m\u001b[0;34m]\u001b[0m \u001b[0;34m@\u001b[0m \u001b[0mnp\u001b[0m\u001b[0;34m.\u001b[0m\u001b[0marray\u001b[0m\u001b[0;34m(\u001b[0m\u001b[0;34m[\u001b[0m\u001b[0;34m[\u001b[0m\u001b[0my\u001b[0m\u001b[0;34m[\u001b[0m\u001b[0;36m2\u001b[0m\u001b[0;34m]\u001b[0m\u001b[0;34m]\u001b[0m\u001b[0;34m,\u001b[0m\u001b[0;34m[\u001b[0m\u001b[0my\u001b[0m\u001b[0;34m[\u001b[0m\u001b[0;36m3\u001b[0m\u001b[0;34m]\u001b[0m\u001b[0;34m]\u001b[0m\u001b[0;34m]\u001b[0m\u001b[0;34m)\u001b[0m\u001b[0;34m,\u001b[0m \u001b[0;31m##x_dot2\u001b[0m\u001b[0;34m\u001b[0m\u001b[0;34m\u001b[0m\u001b[0m\n\u001b[1;32m     28\u001b[0m                      \u001b[0;34m-\u001b[0m\u001b[0mQ\u001b[0m\u001b[0;34m[\u001b[0m\u001b[0;32mNone\u001b[0m\u001b[0;34m,\u001b[0m\u001b[0;36m0\u001b[0m\u001b[0;34m]\u001b[0m \u001b[0;34m@\u001b[0m \u001b[0mnp\u001b[0m\u001b[0;34m.\u001b[0m\u001b[0marray\u001b[0m\u001b[0;34m(\u001b[0m\u001b[0;34m[\u001b[0m\u001b[0;34m[\u001b[0m\u001b[0my\u001b[0m\u001b[0;34m[\u001b[0m\u001b[0;36m0\u001b[0m\u001b[0;34m]\u001b[0m\u001b[0;34m]\u001b[0m\u001b[0;34m,\u001b[0m\u001b[0;34m[\u001b[0m\u001b[0my\u001b[0m\u001b[0;34m[\u001b[0m\u001b[0;36m1\u001b[0m\u001b[0;34m]\u001b[0m\u001b[0;34m]\u001b[0m\u001b[0;34m]\u001b[0m\u001b[0;34m)\u001b[0m \u001b[0;34m-\u001b[0m \u001b[0mA\u001b[0m\u001b[0;34m.\u001b[0m\u001b[0mT\u001b[0m\u001b[0;34m[\u001b[0m\u001b[0;32mNone\u001b[0m\u001b[0;34m,\u001b[0m\u001b[0;36m0\u001b[0m\u001b[0;34m]\u001b[0m \u001b[0;34m@\u001b[0m \u001b[0mnp\u001b[0m\u001b[0;34m.\u001b[0m\u001b[0marray\u001b[0m\u001b[0;34m(\u001b[0m\u001b[0;34m[\u001b[0m\u001b[0;34m[\u001b[0m\u001b[0my\u001b[0m\u001b[0;34m[\u001b[0m\u001b[0;36m2\u001b[0m\u001b[0;34m]\u001b[0m\u001b[0;34m]\u001b[0m\u001b[0;34m,\u001b[0m\u001b[0;34m[\u001b[0m\u001b[0my\u001b[0m\u001b[0;34m[\u001b[0m\u001b[0;36m3\u001b[0m\u001b[0;34m]\u001b[0m\u001b[0;34m]\u001b[0m\u001b[0;34m]\u001b[0m\u001b[0;34m)\u001b[0m\u001b[0;34m,\u001b[0m   \u001b[0;31m##p_dot1\u001b[0m\u001b[0;34m\u001b[0m\u001b[0;34m\u001b[0m\u001b[0m\n",
      "\u001b[0;31mValueError\u001b[0m: matmul: Input operand 1 has a mismatch in its core dimension 0, with gufunc signature (n?,k),(k,m?)->(n?,m?) (size 1 is different from 2)"
     ]
    }
   ],
   "source": [
    "#Create our independent variable nodes. \n",
    "t = np.linspace(0,10,100)\n",
    "\n",
    "#Create our matrices.\n",
    "A = np.array([[0, 1],\n",
    "            [-1.6, -0.4]])\n",
    "\n",
    "B = np.array([[0], \n",
    "              [1]])\n",
    "\n",
    "Q = np.array([[2, 0],\n",
    "            [0, 0.01]])\n",
    "\n",
    "R = np.array([0.1])\n",
    "\n",
    "P1 = np.array([[1, 0],\n",
    "            [0, 0.01]])\n",
    "\n",
    "# The order that we implement this is crucial. In this case, \n",
    "# we will solve the xdot function first.\n",
    "# Create our function\n",
    "\n",
    "##Reshape because numpy reads the matrix as a (R,) instead of a (R,1) which throws an error.\n",
    "##None created a Row vector when placed before, and a Column vector when placed after. Replaces the \"lost\" axis.\n",
    "def bvp(x,y):\n",
    "    return np.vstack((A[None,0] @ np.vstack([y[0],y[1]]) - ((B @ (1/R)).reshape(2,1) @ B.T)[None,0] @ np.array([[y[2]],[y[3]]]), ##x_dot1 \n",
    "                      A[None,1] @ np.vstack([y[0],y[1]]) - ((B @ (1/R)).reshape(2,1) @ B.T)[None,1] @ np.array([[y[2]],[y[3]]]), ##x_dot2\n",
    "                     -Q[None,0] @ np.vstack([y[0],y[1]]) - A.T[None,0] @ np.array([[y[2]],[y[3]]]),   ##p_dot1\n",
    "                     -Q[None,1] @ np.vstack([y[0],y[1]]) - A.T[None,1] @ np.array([[y[2]],[y[3]]]),    ##p_dot2\n",
    "                     ))\n",
    "\n",
    "#Create our boundary conditions\n",
    "def bc(ya, yb):\n",
    "    return np.array([ya[0] - 10,\n",
    "                     ya[1],\n",
    "                     yb[2] - P1[0] @ np.array([[yb[0]],[yb[1]]]),\n",
    "                     yb[3] - P1[1] @ np.array([[yb[0]],[yb[1]]])\n",
    "                    ])\n",
    "#Create our guess \n",
    "y = np.zeros((4,t.size))\n",
    "\n",
    "#Call our function\n",
    "sol = solve_bvp(bvp, bc, t, y)\n"
   ]
  },
  {
   "cell_type": "code",
   "execution_count": 175,
   "id": "f4586d7e",
   "metadata": {},
   "outputs": [
    {
     "data": {
      "text/plain": [
       "(2, 100)"
      ]
     },
     "execution_count": 175,
     "metadata": {},
     "output_type": "execute_result"
    }
   ],
   "source": [
    "y.shape\n",
    "np.vstack((y[0],y[1])).shape"
   ]
  },
  {
   "cell_type": "code",
   "execution_count": 163,
   "id": "34b76660",
   "metadata": {},
   "outputs": [
    {
     "data": {
      "text/plain": [
       "array([[-4.4]])"
      ]
     },
     "execution_count": 163,
     "metadata": {},
     "output_type": "execute_result"
    }
   ],
   "source": [
    "((B @ (1/R)).reshape(2,1) @ B.T)[None,1] @ np.array([[2],[3]])\n",
    "A[None,1] @ np.array([[2],[3]])"
   ]
  },
  {
   "cell_type": "code",
   "execution_count": null,
   "id": "38ce104c",
   "metadata": {},
   "outputs": [],
   "source": []
  },
  {
   "cell_type": "markdown",
   "id": "593f1f09",
   "metadata": {},
   "source": [
    "### Optimization"
   ]
  },
  {
   "cell_type": "code",
   "execution_count": 41,
   "id": "e28b66ea",
   "metadata": {},
   "outputs": [
    {
     "ename": "SyntaxError",
     "evalue": "invalid syntax (1579195541.py, line 3)",
     "output_type": "error",
     "traceback": [
      "\u001b[0;36m  File \u001b[0;32m\"/var/folders/7w/_9tcnxcs6ld28_h3sl__ch380000gn/T/ipykernel_53870/1579195541.py\"\u001b[0;36m, line \u001b[0;32m3\u001b[0m\n\u001b[0;31m    return 0.5 *\u001b[0m\n\u001b[0m                 ^\u001b[0m\n\u001b[0;31mSyntaxError\u001b[0m\u001b[0;31m:\u001b[0m invalid syntax\n"
     ]
    }
   ],
   "source": [
    "#We need to optimize an objective function. \n",
    "def bvp(x,y):\n",
    "    return np.vstack(())\n"
   ]
  },
  {
   "cell_type": "code",
   "execution_count": 42,
   "id": "e3d331f2",
   "metadata": {},
   "outputs": [
    {
     "data": {
      "text/plain": [
       "       message: 'The algorithm converged to the desired accuracy.'\n",
       "         niter: 4\n",
       "             p: None\n",
       " rms_residuals: array([0.00099032, 0.00013947, 0.00014351, 0.00014056, 0.00012947,\n",
       "       0.00077394, 0.00020665, 0.00070687, 0.00013707, 0.00014591,\n",
       "       0.00016672, 0.00036759, 0.00036759, 0.00016672, 0.00014591,\n",
       "       0.00013707, 0.00070687, 0.00020665, 0.00077394, 0.00012947,\n",
       "       0.00014056, 0.00014351, 0.00013947, 0.00099032])\n",
       "           sol: <scipy.interpolate._interpolate.PPoly object at 0x7ff56610dc20>\n",
       "        status: 0\n",
       "       success: True\n",
       "             x: array([0.     , 0.0625 , 0.09375, 0.125  , 0.15625, 0.1875 , 0.25   ,\n",
       "       0.3125 , 0.375  , 0.40625, 0.4375 , 0.46875, 0.5    , 0.53125,\n",
       "       0.5625 , 0.59375, 0.625  , 0.6875 , 0.75   , 0.8125 , 0.84375,\n",
       "       0.875  , 0.90625, 0.9375 , 1.     ])\n",
       "             y: array([[ 0.00000000e+00,  6.75458476e-01,  1.01055852e+00,\n",
       "         1.34295144e+00,  1.67157083e+00,  1.99495050e+00,\n",
       "         2.61732280e+00,  3.18482009e+00,  3.65650848e+00,\n",
       "         3.83933790e+00,  3.97683602e+00,  4.06240758e+00,\n",
       "         4.09147892e+00,  4.06240758e+00,  3.97683602e+00,\n",
       "         3.83933790e+00,  3.65650848e+00,  3.18482009e+00,\n",
       "         2.61732280e+00,  1.99495050e+00,  1.67157083e+00,\n",
       "         1.34295144e+00,  1.01055852e+00,  6.75458476e-01,\n",
       "         0.00000000e+00],\n",
       "       [ 1.08469760e+01,  1.07576438e+01,  1.06846849e+01,\n",
       "         1.05828206e+01,  1.04410589e+01,  1.02446602e+01,\n",
       "         9.60513711e+00,  8.44577666e+00,  6.49655451e+00,\n",
       "         5.16406598e+00,  3.60011936e+00,  1.85163710e+00,\n",
       "         2.36287730e-13, -1.85163710e+00, -3.60011936e+00,\n",
       "        -5.16406598e+00, -6.49655451e+00, -8.44577666e+00,\n",
       "        -9.60513711e+00, -1.02446602e+01, -1.04410589e+01,\n",
       "        -1.05828206e+01, -1.06846849e+01, -1.07576438e+01,\n",
       "        -1.08469760e+01]])\n",
       "            yp: array([[ 1.08469760e+01,  1.07576438e+01,  1.06846849e+01,\n",
       "         1.05828206e+01,  1.04410589e+01,  1.02446602e+01,\n",
       "         9.60513711e+00,  8.44577666e+00,  6.49655451e+00,\n",
       "         5.16406598e+00,  3.60011936e+00,  1.85163710e+00,\n",
       "         2.36287730e-13, -1.85163710e+00, -3.60011936e+00,\n",
       "        -5.16406598e+00, -6.49655451e+00, -8.44577666e+00,\n",
       "        -9.60513711e+00, -1.02446602e+01, -1.04410589e+01,\n",
       "        -1.05828206e+01, -1.06846849e+01, -1.07576438e+01,\n",
       "        -1.08469760e+01],\n",
       "       [-1.00000000e+00, -1.96493364e+00, -2.74713491e+00,\n",
       "        -3.83033185e+00, -5.32051888e+00, -7.35183911e+00,\n",
       "        -1.36989995e+01, -2.41629408e+01, -3.87258944e+01,\n",
       "        -4.64946802e+01, -5.33479750e+01, -5.81140570e+01,\n",
       "        -5.98283073e+01, -5.81140570e+01, -5.33479750e+01,\n",
       "        -4.64946802e+01, -3.87258944e+01, -2.41629408e+01,\n",
       "        -1.36989995e+01, -7.35183911e+00, -5.32051888e+00,\n",
       "        -3.83033185e+00, -2.74713491e+00, -1.96493364e+00,\n",
       "        -1.00000000e+00]])"
      ]
     },
     "execution_count": 42,
     "metadata": {},
     "output_type": "execute_result"
    }
   ],
   "source": [
    "def fun(x,y):\n",
    "    return np.vstack((y[1], -np.exp(y[0])))\n",
    "\n",
    "def bc(ya, yb):\n",
    "    return np.array([ya[0], yb[0]])\n",
    "\n",
    "x = np.linspace(0,1,5)\n",
    "y_a = np.zeros((2,x.size))\n",
    "y_b = np.zeros((2,x.size))\n",
    "y_b[0] = 3\n",
    "res_a = solve_bvp(fun, bc, x, y_a)\n",
    "res_b = solve_bvp(fun, bc, x, y_b)\n",
    "res_b"
   ]
  },
  {
   "cell_type": "code",
   "execution_count": 45,
   "id": "c02a4591",
   "metadata": {},
   "outputs": [
    {
     "data": {
      "text/plain": [
       "array([[ 0.00000000e+00,  6.75458476e-01,  1.01055852e+00,\n",
       "         1.34295144e+00,  1.67157083e+00,  1.99495050e+00,\n",
       "         2.61732280e+00,  3.18482009e+00,  3.65650848e+00,\n",
       "         3.83933790e+00,  3.97683602e+00,  4.06240758e+00,\n",
       "         4.09147892e+00,  4.06240758e+00,  3.97683602e+00,\n",
       "         3.83933790e+00,  3.65650848e+00,  3.18482009e+00,\n",
       "         2.61732280e+00,  1.99495050e+00,  1.67157083e+00,\n",
       "         1.34295144e+00,  1.01055852e+00,  6.75458476e-01,\n",
       "         0.00000000e+00],\n",
       "       [ 1.08469760e+01,  1.07576438e+01,  1.06846849e+01,\n",
       "         1.05828206e+01,  1.04410589e+01,  1.02446602e+01,\n",
       "         9.60513711e+00,  8.44577666e+00,  6.49655451e+00,\n",
       "         5.16406598e+00,  3.60011936e+00,  1.85163710e+00,\n",
       "         2.36287730e-13, -1.85163710e+00, -3.60011936e+00,\n",
       "        -5.16406598e+00, -6.49655451e+00, -8.44577666e+00,\n",
       "        -9.60513711e+00, -1.02446602e+01, -1.04410589e+01,\n",
       "        -1.05828206e+01, -1.06846849e+01, -1.07576438e+01,\n",
       "        -1.08469760e+01]])"
      ]
     },
     "execution_count": 45,
     "metadata": {},
     "output_type": "execute_result"
    }
   ],
   "source": [
    "res_b.y"
   ]
  },
  {
   "cell_type": "code",
   "execution_count": null,
   "id": "3a397412",
   "metadata": {},
   "outputs": [],
   "source": []
  },
  {
   "cell_type": "code",
   "execution_count": null,
   "id": "3771675a",
   "metadata": {},
   "outputs": [],
   "source": []
  }
 ],
 "metadata": {
  "kernelspec": {
   "display_name": "Python 3 (ipykernel)",
   "language": "python",
   "name": "python3"
  },
  "language_info": {
   "codemirror_mode": {
    "name": "ipython",
    "version": 3
   },
   "file_extension": ".py",
   "mimetype": "text/x-python",
   "name": "python",
   "nbconvert_exporter": "python",
   "pygments_lexer": "ipython3",
   "version": "3.9.13"
  }
 },
 "nbformat": 4,
 "nbformat_minor": 5
}
